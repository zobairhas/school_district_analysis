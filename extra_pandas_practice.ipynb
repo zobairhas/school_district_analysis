{
 "cells": [
  {
   "cell_type": "code",
   "execution_count": 1,
   "id": "9c6c0127",
   "metadata": {},
   "outputs": [
    {
     "name": "stdout",
     "output_type": "stream",
     "text": [
      "Hernandez High School\n",
      "Figueroa High School\n",
      "Wilson High School\n",
      "Wright High School\n"
     ]
    }
   ],
   "source": [
    "### ended at 4.3.5\n",
    "\n",
    "# List of high schools\n",
    "high_schools = [\"Hernandez High School\", \"Figueroa High School\", \"Wilson High School\", \"Wright High School\"]\n",
    "\n",
    "for school in high_schools:\n",
    "    print(school)"
   ]
  },
  {
   "cell_type": "code",
   "execution_count": 2,
   "id": "82f68887",
   "metadata": {},
   "outputs": [
    {
     "name": "stdout",
     "output_type": "stream",
     "text": [
      "{'High School': 'Griffin', 'Type': 'District'}\n",
      "{'High School': 'Figueroa', 'Type': 'District'}\n",
      "{'High School': 'Wilson', 'Type': 'Charter'}\n",
      "{'High School': 'Wright', 'Type': 'Charter'}\n"
     ]
    }
   ],
   "source": [
    "# A dictionary of high schools and the type of school.\n",
    "high_school_types = [{\"High School\": \"Griffin\", \"Type\": \"District\"},\n",
    "    {\"High School\": \"Figueroa\", \"Type\": \"District\"},\n",
    "    {\"High School\": \"Wilson\", \"Type\": \"Charter\"},\n",
    "    {\"High School\": \"Wright\", \"Type\": \"Charter\"}]\n",
    "\n",
    "for school in high_school_types:\n",
    "    print(school)\n"
   ]
  },
  {
   "cell_type": "code",
   "execution_count": null,
   "id": "91795d24",
   "metadata": {},
   "outputs": [],
   "source": [
    "## A Pandas Series is a one-dimensional, labeled array capable of holding any data type. \n",
    "## This means the data is linear and has an index that acts as a key in a dictionary.\n",
    "\n"
   ]
  },
  {
   "cell_type": "code",
   "execution_count": null,
   "id": "2362e7b0",
   "metadata": {},
   "outputs": [],
   "source": [
    "# List of high schools\n",
    "high_schools = [\"Huang High School\",  \"Figueroa High School\", \"Shelton High School\", \"Hernandez High School\",\"Griffin High School\",\"Wilson High School\", \"Cabrera High School\", \"Bailey High School\", \"Holden High School\", \"Pena High School\", \"Wright High School\",\"Rodriguez High School\", \"Johnson High School\", \"Ford High School\", \"Thomas High School\"]"
   ]
  },
  {
   "cell_type": "code",
   "execution_count": null,
   "id": "660dc86f",
   "metadata": {},
   "outputs": [],
   "source": [
    "# Add the Pandas dependency\n",
    "import pandas as pd"
   ]
  },
  {
   "cell_type": "code",
   "execution_count": null,
   "id": "b8e014e3",
   "metadata": {},
   "outputs": [],
   "source": [
    "# Create a Pandas Series from a list\n",
    "## Series() is the function; pd is the alias we created which utilizes pandas; high_schools is the list provided\n",
    "school_series = pd.Series(high_schools)\n",
    "school_series"
   ]
  },
  {
   "cell_type": "code",
   "execution_count": null,
   "id": "5e6da3a7",
   "metadata": {},
   "outputs": [],
   "source": [
    "for i in school_series:\n",
    "    print(i)"
   ]
  },
  {
   "cell_type": "code",
   "execution_count": 3,
   "id": "26832998",
   "metadata": {},
   "outputs": [
    {
     "name": "stdout",
     "output_type": "stream",
     "text": [
      "[{'School ID': 0, 'school_name': 'Huang High School', 'type': 'District'}, {'School ID': 1, 'school_name': 'Figueroa High School', 'type': 'District'}, {'School ID': 2, 'school_name': 'Shelton High School', 'type': 'Charter'}, {'School ID': 3, 'school_name': 'Hernandez High School', 'type': 'District'}, {'School ID': 4, 'school_name': 'Griffin High School', 'type': 'Charter'}]\n"
     ]
    }
   ],
   "source": [
    "## A Pandas DataFrame is a two-dimensional labeled data structure, like a dictionary, with rows and columns of potentially different data types such as strings, integers, and floats (decimal point numbers), where data is aligned in a table.\n",
    "## A Python dictionary has a key and a value, or key-value pairs.\n",
    "\n",
    "# A dictionary of high schools\n",
    "high_school_dicts = [{\"School ID\": 0, \"school_name\": \"Huang High School\", \"type\": \"District\"},\n",
    "    {\"School ID\": 1, \"school_name\": \"Figueroa High School\", \"type\": \"District\"},\n",
    "    {\"School ID\": 2, \"school_name\": \"Shelton High School\", \"type\": \"Charter\"},\n",
    "    {\"School ID\": 3, \"school_name\": \"Hernandez High School\", \"type\": \"District\"},\n",
    "    {\"School ID\": 4, \"school_name\": \"Griffin High School\", \"type\": \"Charter\" }]\n",
    "\n",
    "print(high_school_dicts)"
   ]
  },
  {
   "cell_type": "code",
   "execution_count": null,
   "id": "e156e963",
   "metadata": {},
   "outputs": [],
   "source": [
    "# Create a Pandas Dataframe from a list or dictionary\n",
    "## DataFrame() is the function; pd is the alias we created which utilizes pandas; high_school_dicts is the dictionary that i created above\n",
    "## school_df is a variable that i created and can name whatever i want\n",
    "\n",
    "school_df = pd.DataFrame(high_school_dicts)\n",
    "school_df"
   ]
  },
  {
   "cell_type": "code",
   "execution_count": null,
   "id": "ef4e33c1",
   "metadata": {},
   "outputs": [],
   "source": [
    "# Three separate lists of information on high schools\n",
    "## these are three separate series that we can use to initialize a DataFrame\n",
    "\n",
    "school_id = [0, 1, 2, 3, 4]\n",
    "\n",
    "school_name = [\"Huang High School\", \"Figueroa High School\",\n",
    "\"Shelton High School\", \"Hernandez High School\",\"Griffin High School\"]\n",
    "\n",
    "type_of_school = [\"District\", \"District\", \"Charter\", \"District\",\"Charter\"]"
   ]
  },
  {
   "cell_type": "code",
   "execution_count": null,
   "id": "5e7becd7",
   "metadata": {},
   "outputs": [],
   "source": [
    "## create an empty dataframe similar to creating an empty list or dictionary\n",
    "schools_df = pd.DataFrame()"
   ]
  },
  {
   "cell_type": "code",
   "execution_count": null,
   "id": "9296aa59",
   "metadata": {},
   "outputs": [],
   "source": [
    "## think of the string in the brackets as the column header in a spreadsheet\n",
    "## i can literally call the string in brackets whatever i want\n",
    "## school_id and the other variables are the lists that i just created\n",
    "## by adding the individual lists or series into my schools_df DataFrame, i'm creating key:value pairs\n",
    "\n",
    "schools_df[\"thug lyfe\"] = school_id\n",
    "schools_df[\"bruh\"] = school_name\n",
    "schools_df[\"wtf\"] = type_of_school\n",
    "\n",
    "schools_df"
   ]
  },
  {
   "cell_type": "code",
   "execution_count": null,
   "id": "277b0b0f",
   "metadata": {},
   "outputs": [],
   "source": [
    "# Create a dictionary of information on high schools.\n",
    "high_schools_dict = {'School ID': school_id, 'school_name':school_name, 'type':type_of_school}\n",
    "i_hate_school_df = pd.DataFrame(high_schools_dict)\n",
    "i_hate_school_df"
   ]
  },
  {
   "cell_type": "code",
   "execution_count": null,
   "id": "7b890577",
   "metadata": {},
   "outputs": [],
   "source": [
    "## .columns attribute displays the column expected column names\n",
    "school_df.columns"
   ]
  },
  {
   "cell_type": "code",
   "execution_count": null,
   "id": "8cf20cdd",
   "metadata": {},
   "outputs": [],
   "source": [
    "## .index attribute displays the beginning and end of an index as well as the index increments\n",
    "school_df.index\n"
   ]
  },
  {
   "cell_type": "code",
   "execution_count": null,
   "id": "d22a9abc",
   "metadata": {},
   "outputs": [],
   "source": [
    "## .values will  display an array of all the values but without the column names\n",
    "school_df.values\n"
   ]
  },
  {
   "cell_type": "code",
   "execution_count": null,
   "id": "da105d35",
   "metadata": {},
   "outputs": [],
   "source": [
    "# create new Pandas DataFrame\n",
    "## 1. create a dictionary with key value pairings from the sheet\n",
    "## 2. create a new variable that initializes the Panda DataFrame\n",
    "## 3. print new data frame variable\n",
    "\n",
    "\n",
    "new_schools_dict = ({\"School ID\": 0, \"school_name\": \"Huang High School\", \"type\": \"District\"},\n",
    " {\"School ID\": 1, \"school_name\": \"Figueroa High School\", \"type\": \"District\"},\n",
    " {\"School ID\": 2, \"school_name\": \"Shelton High School\", \"type\": \"Charter\"})\n",
    "\n",
    "new_schools_df = pd.DataFrame(new_schools_dict)\n",
    "new_schools_df"
   ]
  },
  {
   "cell_type": "code",
   "execution_count": null,
   "id": "556ec3a8",
   "metadata": {},
   "outputs": [],
   "source": []
  }
 ],
 "metadata": {
  "kernelspec": {
   "display_name": "PythonData",
   "language": "python",
   "name": "pythondata"
  },
  "language_info": {
   "codemirror_mode": {
    "name": "ipython",
    "version": 3
   },
   "file_extension": ".py",
   "mimetype": "text/x-python",
   "name": "python",
   "nbconvert_exporter": "python",
   "pygments_lexer": "ipython3",
   "version": "3.7.11"
  }
 },
 "nbformat": 4,
 "nbformat_minor": 5
}
